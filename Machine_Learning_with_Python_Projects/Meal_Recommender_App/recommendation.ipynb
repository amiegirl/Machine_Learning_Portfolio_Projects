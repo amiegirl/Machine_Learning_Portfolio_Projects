{
 "cells": [
  {
   "cell_type": "markdown",
   "metadata": {},
   "source": [
    "# MODELLING"
   ]
  },
  {
   "cell_type": "markdown",
   "metadata": {},
   "source": [
    "We develop models for predicting real time delivery of an order from different places. Three distinct machine learning models (Linera Regression, Random Forest Regression and Decision Tree Regression were utilized to estimate delivery time."
   ]
  },
  {
   "cell_type": "markdown",
   "metadata": {},
   "source": [
    "## ESTIMATE DELIVERY TIME"
   ]
  },
  {
   "cell_type": "code",
   "execution_count": 1,
   "metadata": {},
   "outputs": [],
   "source": [
    "import pandas as pd\n",
    "import numpy as np\n",
    "import warnings\n",
    "warnings.filterwarnings('ignore')\n",
    "\n",
    "from sklearn.tree import DecisionTreeRegressor\n",
    "from sklearn.preprocessing import StandardScaler\n",
    "from sklearn.linear_model import LinearRegression\n",
    "from sklearn.ensemble import  RandomForestRegressor\n",
    "from sklearn.model_selection import train_test_split\n",
    "from sklearn.metrics import mean_squared_error as mse\n",
    "from sklearn.metrics.pairwise import cosine_similarity\n",
    "from sklearn.feature_extraction.text import TfidfVectorizer\n",
    "from sklearn.metrics.pairwise import linear_kernel\n",
    "import pickle"
   ]
  },
  {
   "cell_type": "code",
   "execution_count": 2,
   "metadata": {},
   "outputs": [
    {
     "data": {
      "text/html": [
       "<div>\n",
       "<style scoped>\n",
       "    .dataframe tbody tr th:only-of-type {\n",
       "        vertical-align: middle;\n",
       "    }\n",
       "\n",
       "    .dataframe tbody tr th {\n",
       "        vertical-align: top;\n",
       "    }\n",
       "\n",
       "    .dataframe thead th {\n",
       "        text-align: right;\n",
       "    }\n",
       "</style>\n",
       "<table border=\"1\" class=\"dataframe\">\n",
       "  <thead>\n",
       "    <tr style=\"text-align: right;\">\n",
       "      <th></th>\n",
       "      <th>order_id</th>\n",
       "      <th>customer_id</th>\n",
       "      <th>product_id</th>\n",
       "      <th>distance_km</th>\n",
       "      <th>product_rating</th>\n",
       "      <th>date</th>\n",
       "      <th>review</th>\n",
       "      <th>time_taken(min)</th>\n",
       "      <th>place_id</th>\n",
       "      <th>product</th>\n",
       "      <th>product_description</th>\n",
       "      <th>product_type</th>\n",
       "      <th>place_type</th>\n",
       "      <th>place_name</th>\n",
       "      <th>place_address</th>\n",
       "      <th>place_phone_no</th>\n",
       "      <th>price</th>\n",
       "    </tr>\n",
       "  </thead>\n",
       "  <tbody>\n",
       "    <tr>\n",
       "      <th>0</th>\n",
       "      <td>0</td>\n",
       "      <td>0</td>\n",
       "      <td>3711</td>\n",
       "      <td>46.99</td>\n",
       "      <td>3</td>\n",
       "      <td>6-4-22</td>\n",
       "      <td>0</td>\n",
       "      <td>43</td>\n",
       "      <td>88</td>\n",
       "      <td>Gala</td>\n",
       "      <td>Gala, a popular on-the-go snack, has become sy...</td>\n",
       "      <td>snacks</td>\n",
       "      <td>cafes</td>\n",
       "      <td>Krispy Kreme</td>\n",
       "      <td>389C Herbert Macaulay Way, Yaba, Lagos, Nigeria</td>\n",
       "      <td>NaN</td>\n",
       "      <td>700</td>\n",
       "    </tr>\n",
       "  </tbody>\n",
       "</table>\n",
       "</div>"
      ],
      "text/plain": [
       "   order_id  customer_id  product_id  distance_km  product_rating    date   \n",
       "0         0            0        3711        46.99               3  6-4-22  \\\n",
       "\n",
       "   review  time_taken(min)  place_id product   \n",
       "0       0               43        88    Gala  \\\n",
       "\n",
       "                                 product_description product_type place_type   \n",
       "0  Gala, a popular on-the-go snack, has become sy...       snacks      cafes  \\\n",
       "\n",
       "     place_name                                     place_address   \n",
       "0  Krispy Kreme   389C Herbert Macaulay Way, Yaba, Lagos, Nigeria  \\\n",
       "\n",
       "  place_phone_no  price  \n",
       "0            NaN    700  "
      ]
     },
     "execution_count": 2,
     "metadata": {},
     "output_type": "execute_result"
    }
   ],
   "source": [
    "df = pd.read_csv('order_data_pr.csv')\n",
    "df.head(1)"
   ]
  },
  {
   "cell_type": "code",
   "execution_count": 4,
   "metadata": {},
   "outputs": [],
   "source": [
    "# Split Data\n",
    "X = df['distance_km'].values.reshape(-1,1)\n",
    "y = df['time_taken(min)'].values\n",
    "\n",
    "X_train, X_test, y_train, y_test = train_test_split(X,y,test_size = 0.2,random_state=0)"
   ]
  },
  {
   "cell_type": "code",
   "execution_count": 5,
   "metadata": {},
   "outputs": [],
   "source": [
    "# Feature Engineering\n",
    "\n",
    "# ===== Scaler =====\n",
    "scaler = StandardScaler()"
   ]
  },
  {
   "cell_type": "code",
   "execution_count": 6,
   "metadata": {},
   "outputs": [],
   "source": [
    "# Transforming train and test data\n",
    "X_train = scaler.fit_transform(X_train)\n",
    "X_test = scaler.fit_transform(X_test)"
   ]
  },
  {
   "cell_type": "code",
   "execution_count": 7,
   "metadata": {},
   "outputs": [
    {
     "data": {
      "text/plain": [
       "((7219, 1), (7219,))"
      ]
     },
     "execution_count": 7,
     "metadata": {},
     "output_type": "execute_result"
    }
   ],
   "source": [
    "X_train.shape,y_train.shape"
   ]
  },
  {
   "cell_type": "code",
   "execution_count": 8,
   "metadata": {},
   "outputs": [],
   "source": [
    "# Initialize model\n",
    "\n",
    "RANDOM_STATE = 0\n",
    "lr = LinearRegression()\n",
    "rf = RandomForestRegressor(random_state=RANDOM_STATE)\n",
    "dt = DecisionTreeRegressor(random_state=RANDOM_STATE)\n",
    "\n",
    "models = {'Linear_Regression':lr, 'RandomForest_Regressor':rf,\n",
    "        'DecisionTree_Regressor':dt}\n",
    "\n",
    "# Train models\n",
    "\n",
    "models_list = []\n",
    "for name,model in models.items():\n",
    "    model.fit(X_train,y_train)\n",
    "    models_list.append(name)"
   ]
  },
  {
   "cell_type": "markdown",
   "metadata": {},
   "source": [
    "## Model Evaluation\n",
    "\n",
    "Accuracy score and rmse were used to estimate the accuracy and validity of the models"
   ]
  },
  {
   "cell_type": "code",
   "execution_count": 9,
   "metadata": {},
   "outputs": [
    {
     "name": "stdout",
     "output_type": "stream",
     "text": [
      "Linear_Regression Test Set Accuracy:0.779310527093613 rmse: 6.278553067213242\n",
      "RandomForest_Regressor Test Set Accuracy:0.7045545695294466 rmse: 7.264527954047122\n",
      "DecisionTree_Regressor Test Set Accuracy:0.6415897416047636 rmse: 8.00127093240131\n"
     ]
    }
   ],
   "source": [
    "# Evaluating model\n",
    "accuracy_list, rmse_list = [], []\n",
    "for name,model in models.items():\n",
    "    y_pred = model.predict(X_test)\n",
    "    test_score = model.score(X_test,y_test)\n",
    "    accuracy_list.append(test_score)\n",
    "    rmse = mse(y_test,y_pred, squared=False)\n",
    "    rmse_list.append(rmse)\n",
    "    print(f\"{name} Test Set Accuracy:{test_score} rmse: {rmse}\")"
   ]
  },
  {
   "cell_type": "code",
   "execution_count": 10,
   "metadata": {},
   "outputs": [
    {
     "data": {
      "text/html": [
       "<div>\n",
       "<style scoped>\n",
       "    .dataframe tbody tr th:only-of-type {\n",
       "        vertical-align: middle;\n",
       "    }\n",
       "\n",
       "    .dataframe tbody tr th {\n",
       "        vertical-align: top;\n",
       "    }\n",
       "\n",
       "    .dataframe thead th {\n",
       "        text-align: right;\n",
       "    }\n",
       "</style>\n",
       "<table border=\"1\" class=\"dataframe\">\n",
       "  <thead>\n",
       "    <tr style=\"text-align: right;\">\n",
       "      <th></th>\n",
       "      <th>Model</th>\n",
       "      <th>RMSE</th>\n",
       "      <th>Accuracy_score</th>\n",
       "    </tr>\n",
       "  </thead>\n",
       "  <tbody>\n",
       "    <tr>\n",
       "      <th>0</th>\n",
       "      <td>Linear_Regression</td>\n",
       "      <td>6.278553</td>\n",
       "      <td>0.779311</td>\n",
       "    </tr>\n",
       "    <tr>\n",
       "      <th>1</th>\n",
       "      <td>RandomForest_Regressor</td>\n",
       "      <td>7.264528</td>\n",
       "      <td>0.704555</td>\n",
       "    </tr>\n",
       "    <tr>\n",
       "      <th>2</th>\n",
       "      <td>DecisionTree_Regressor</td>\n",
       "      <td>8.001271</td>\n",
       "      <td>0.641590</td>\n",
       "    </tr>\n",
       "  </tbody>\n",
       "</table>\n",
       "</div>"
      ],
      "text/plain": [
       "                    Model      RMSE  Accuracy_score\n",
       "0       Linear_Regression  6.278553        0.779311\n",
       "1  RandomForest_Regressor  7.264528        0.704555\n",
       "2  DecisionTree_Regressor  8.001271        0.641590"
      ]
     },
     "execution_count": 10,
     "metadata": {},
     "output_type": "execute_result"
    }
   ],
   "source": [
    "# Making a Dataframe of each model and metrics\n",
    "\n",
    "model_metrics_df = pd.DataFrame({'Model': models_list,'RMSE': rmse_list,'Accuracy_score': accuracy_list, } )\n",
    "model_metrics_df"
   ]
  },
  {
   "cell_type": "code",
   "execution_count": 11,
   "metadata": {},
   "outputs": [
    {
     "data": {
      "text/html": [
       "<div>\n",
       "<style scoped>\n",
       "    .dataframe tbody tr th:only-of-type {\n",
       "        vertical-align: middle;\n",
       "    }\n",
       "\n",
       "    .dataframe tbody tr th {\n",
       "        vertical-align: top;\n",
       "    }\n",
       "\n",
       "    .dataframe thead th {\n",
       "        text-align: right;\n",
       "    }\n",
       "</style>\n",
       "<table border=\"1\" class=\"dataframe\">\n",
       "  <thead>\n",
       "    <tr style=\"text-align: right;\">\n",
       "      <th>Model</th>\n",
       "      <th>Linear_Regression</th>\n",
       "      <th>RandomForest_Regressor</th>\n",
       "      <th>DecisionTree_Regressor</th>\n",
       "    </tr>\n",
       "  </thead>\n",
       "  <tbody>\n",
       "    <tr>\n",
       "      <th>RMSE</th>\n",
       "      <td>6.278553</td>\n",
       "      <td>7.264528</td>\n",
       "      <td>8.001271</td>\n",
       "    </tr>\n",
       "    <tr>\n",
       "      <th>Accuracy_score</th>\n",
       "      <td>0.779311</td>\n",
       "      <td>0.704555</td>\n",
       "      <td>0.641590</td>\n",
       "    </tr>\n",
       "  </tbody>\n",
       "</table>\n",
       "</div>"
      ],
      "text/plain": [
       "Model           Linear_Regression  RandomForest_Regressor   \n",
       "RMSE                     6.278553                7.264528  \\\n",
       "Accuracy_score           0.779311                0.704555   \n",
       "\n",
       "Model           DecisionTree_Regressor  \n",
       "RMSE                          8.001271  \n",
       "Accuracy_score                0.641590  "
      ]
     },
     "execution_count": 11,
     "metadata": {},
     "output_type": "execute_result"
    }
   ],
   "source": [
    "# Transpose metrics df\n",
    "model_metrics_df = model_metrics_df.set_index('Model')\n",
    "model_metrics_df = model_metrics_df.transpose()\n",
    "model_metrics_df"
   ]
  },
  {
   "cell_type": "code",
   "execution_count": 12,
   "metadata": {},
   "outputs": [
    {
     "data": {
      "image/png": "[encoded data removed]",
      "text/plain": [
       "<Figure size 800x600 with 1 Axes>"
      ]
     },
     "metadata": {},
     "output_type": "display_data"
    }
   ],
   "source": [
    "# Plot of metrics\n",
    "ax = model_metrics_df.plot.bar(figsize=[8, 6])\n",
    "ax.legend(bbox_to_anchor=(0,1.02,1,0.2), loc=\"best\", ncol=3, fontsize=12)\n",
    "ax.set_xticklabels(ax.get_xticklabels(), rotation=0)\n",
    "ax.tick_params(axis='both', labelsize=14)\n",
    "ax.set_xlabel(\"Metrics\", fontsize=16, fontweight=\"bold\")\n",
    "ax.set_ylabel(\"Score\", fontsize=16, fontweight=\"bold\")\n",
    "ax.set_title(\"Performance metrics\", fontsize=16, fontweight=\"bold\")\n",
    "ax;"
   ]
  },
  {
   "cell_type": "markdown",
   "metadata": {},
   "source": [
    "The model with the lowest rmse and best accuracy is Linear Regression"
   ]
  },
  {
   "cell_type": "code",
   "execution_count": 13,
   "metadata": {},
   "outputs": [
    {
     "name": "stdout",
     "output_type": "stream",
     "text": [
      "Linear_Regression Predictions:[30.95899968 23.74742175 43.53105532 57.92528774 28.93435882 23.01469458\n",
      " 30.19734907 27.56531595 38.47909431 16.612973  ]\n",
      "RandomForest_Regressor Predictions:[28.90452381 18.06956566 40.10730952 65.31633333 25.77258333 20.8969881\n",
      " 36.20833333 30.07169048 42.56679762 20.21733333]\n",
      "DecisionTree_Regressor Predictions:[29.         17.8        39.         68.         26.5        21.\n",
      " 40.         34.         42.66666667 19.        ]\n"
     ]
    }
   ],
   "source": [
    "for name,model in models.items():\n",
    "    y_pred = model.predict(X_test)\n",
    "    print(f\"{name} Predictions:{y_pred[:10]}\")"
   ]
  },
  {
   "cell_type": "code",
   "execution_count": 14,
   "metadata": {},
   "outputs": [],
   "source": [
    "# Saving model with pickle\n",
    "\n",
    "pickle.dump(lr, open('model.pkl', 'wb'))"
   ]
  },
  {
   "cell_type": "code",
   "execution_count": 15,
   "metadata": {},
   "outputs": [
    {
     "data": {
      "text/plain": [
       "array([30.95899968, 23.74742175, 43.53105532, ..., 40.20485962,\n",
       "       22.34945544, 21.36605845])"
      ]
     },
     "execution_count": 15,
     "metadata": {},
     "output_type": "execute_result"
    }
   ],
   "source": [
    "#Load the model from Pickle\n",
    "pickled_model = pickle.load(open('model.pkl', 'rb'))\n",
    "pickled_model.predict(X_test)"
   ]
  },
  {
   "cell_type": "code",
   "execution_count": 16,
   "metadata": {},
   "outputs": [
    {
     "data": {
      "text/plain": [
       "array([508.93369736])"
      ]
     },
     "execution_count": 16,
     "metadata": {},
     "output_type": "execute_result"
    }
   ],
   "source": [
    "pickled_model.predict(np.array([40]).reshape(-1,1))"
   ]
  },
  {
   "cell_type": "markdown",
   "metadata": {},
   "source": [
    "## MEAL RECOMMENDATION"
   ]
  },
  {
   "cell_type": "markdown",
   "metadata": {},
   "source": [
    "We used cosine similarity from product description and product type to recommend product to existing and new users. Used product rating to recommend best products and places to users"
   ]
  },
  {
   "cell_type": "code",
   "execution_count": 17,
   "metadata": {},
   "outputs": [],
   "source": [
    "# Computing the vectorisation of product description text fitting and transforming it\n",
    "tf = TfidfVectorizer(analyzer='word',ngram_range=(1, 2),min_df=0, stop_words='english')\n",
    "tfidf_matrix = tf.fit_transform(df['product_description'] + df['product_type'])"
   ]
  },
  {
   "cell_type": "code",
   "execution_count": 18,
   "metadata": {},
   "outputs": [],
   "source": [
    "# compute the cosine similarity for the computed matrix consisting of product and description\n",
    "cos_sim = linear_kernel(tfidf_matrix)"
   ]
  },
  {
   "cell_type": "code",
   "execution_count": 19,
   "metadata": {},
   "outputs": [],
   "source": [
    "# Get product data\n",
    "sim_pred = df.reset_index()\n",
    "product_name = df['product'].drop_duplicates()\n",
    "indices = pd.Series(product_name.index, index=product_name.values)"
   ]
  },
  {
   "cell_type": "code",
   "execution_count": 20,
   "metadata": {},
   "outputs": [],
   "source": [
    "# function that returns top 10 most similar products based on cosine similarity scores\n",
    "\n",
    "def product_recommend(user_id):\n",
    "    \n",
    "    # old customer\n",
    "    if user_id in df[\"customer_id\"].to_list():\n",
    "        #get customers previous order item\n",
    "        customer_last_order = (df[df[\"customer_id\"] == user_id][\"product\"]).to_list()[-1]\n",
    "\n",
    "        # get the similarities based ond the user's last order \n",
    "        idx = indices[customer_last_order]\n",
    "        sim = enumerate(cos_sim[idx])\n",
    "        sim = sorted(sim, key=lambda x: x[1], reverse=True)\n",
    "\n",
    "        sim_index = [i[0] for i in sim]\n",
    "        sim_data = (df[\"product\"].iloc[sim_index]).drop_duplicates()\n",
    "    \n",
    "        number = 0\n",
    "        for i in sim_data[:10].tolist():\n",
    "            number+=1\n",
    "            rec_price = df[df['product'] == i][['place_name','product_rating','price']]\n",
    "            rec_price = rec_price.sort_values('product_rating',ascending=False)[:5]\n",
    "            place = rec_price['place_name'].tolist()\n",
    "            price = [str (x) for x in rec_price['price'].tolist()]\n",
    "            rest_dict = dict(zip(place, price))\n",
    "            print(f\"\\n№ {number}\")\n",
    "            print(f\"Product: {i}\")\n",
    "            for place, price in rest_dict.items():\n",
    "                print(f\"Place: {place}, Price: {price}\")\n",
    "    else:\n",
    "        sim_data = (df[\"product\"].drop_duplicates())\n",
    "        number = 0\n",
    "        for i in sim_data[:10].tolist():\n",
    "            number+=1\n",
    "            rec_price = df[[\"product\",\"product_rating\",\"place_name\",\"price\"]]\n",
    "            rec_price = rec_price.sort_values('product_rating',ascending=False)[:5]\n",
    "            place = rec_price['place_name'].tolist()\n",
    "            price = [str (x) for x in rec_price['price'].tolist()]\n",
    "            rest_dict = dict(zip(place, price))\n",
    "            print(f\"\\n№ {number}\")\n",
    "            print(f\"Product: {i}\")\n",
    "            for place, price in rest_dict.items():\n",
    "                print(f\"Place: {place}, Price: {price}\")"
   ]
  },
  {
   "cell_type": "code",
   "execution_count": 21,
   "metadata": {},
   "outputs": [
    {
     "name": "stdout",
     "output_type": "stream",
     "text": [
      "\n",
      "№ 1\n",
      "Product: Beer\n",
      "Place: Goat Hunters Restaurant, Price: 3200\n",
      "Place: MyYa’s Cafe, Price: 2300\n",
      "Place: Double Four Restaurant & Eatery, Price: 3200\n",
      "Place: Krispy Kreme, Price: 2300\n",
      "Place: Art Cafe, Price: 3400\n",
      "\n",
      "№ 2\n",
      "Product: Whisky\n",
      "Place: SEE Lagos, Price: 4100\n",
      "Place: Cafe One Yaba, Price: 4300\n",
      "Place: Pause | Café & Espresso Bar, Price: 4900\n",
      "Place: Stories Lagos, Price: 5100\n",
      "Place: Ouida Cafe, Price: 5500\n",
      "\n",
      "№ 3\n",
      "Product:  Smoothie\n",
      "Place: Darling - Ro Restaurant, Price: 2000\n",
      "Place: Cafe One Yaba, Price: 1900\n",
      "Place: Grey Matter Social Space, Price: 1100\n",
      "Place: Pause | Café & Espresso Bar, Price: 1500\n",
      "Place: Ziya Delicacy Boutique, Price: 2300\n",
      "\n",
      "№ 4\n",
      "Product: fura da nono\n",
      "Place: Fresh Forte, Price: 800\n",
      "Place: Enjoyurmouth.com, Price: 800\n",
      "Place: Barcelos, Price: 600\n",
      "Place: La Pointe Cafe, Price: 400\n",
      "Place: Pause | Café & Espresso Bar, Price: 900\n",
      "\n",
      "№ 5\n",
      "Product: Wheat Meat Pie (Beef Pie)\n",
      "Place: Cafe One Yaba, Price: 700\n",
      "Place: New China Restaurant, Price: 500\n",
      "Place: MY COFFEE, Price: 700\n",
      "Place: Fresh Forte, Price: 800\n",
      "\n",
      "№ 6\n",
      "Product: West African Coconut Rice\n",
      "Place: Rehoboth Delicious, Price: 1600\n",
      "Place: Onyemaechi Restaurant, Price: 2500\n",
      "Place: Goshen Restaurant And Bar, Price: 1500\n",
      "Place: Bangkok Restaurant, Price: 1900\n",
      "Place: Enjoyurmouth.com, Price: 1700\n",
      "\n",
      "№ 7\n",
      "Product: Nigerian Fried Rice \n",
      "Place: Chicken Cooking Family Restaurant, Price: 1800\n",
      "Place: Sweetspot Eatery And African Dishes, Price: 1600\n",
      "Place: The Kitchen, Lekki, Price: 2500\n",
      "Place: Double Four Restaurant & Eatery, Price: 2900\n",
      "Place: Bangkok Restaurant, Price: 1100\n",
      "\n",
      "№ 8\n",
      "Product: Kunnu Aya\n",
      "Place: La Pointe Cafe, Price: 500\n",
      "Place: Eric Kayer, Price: 900\n",
      "Place: Ouida Cafe, Price: 600\n",
      "Place: Cafe One Yaba, Price: 700\n",
      "Place: SEE Lagos, Price: 800\n",
      "\n",
      "№ 9\n",
      "Product: Adoyo\n",
      "Place: Hot Crust Cafe, Price: 600\n",
      "Place: Ms Food, Price: 600\n",
      "Place: Pause | Café & Espresso Bar, Price: 600\n",
      "\n",
      "№ 10\n",
      "Product: KOKORO\n",
      "Place: Atlantic Bar & Restaurant, Price: 900\n",
      "Place: Lighthouse Restaurant, Price: 600\n",
      "Place: Coors Restaurant and Lounge, Price: 600\n",
      "Place: Ziya Delicacy Boutique, Price: 500\n",
      "Place: MY COFFEE, Price: 500\n"
     ]
    }
   ],
   "source": [
    "# Existing user\n",
    "product_recommend(user_id=56)"
   ]
  },
  {
   "cell_type": "code",
   "execution_count": 22,
   "metadata": {},
   "outputs": [
    {
     "name": "stdout",
     "output_type": "stream",
     "text": [
      "\n",
      "№ 1\n",
      "Product: Gala\n",
      "Place: House J. Luxury Apartments & Restaurant, Price: 900\n",
      "Place: Mia Delizia Italian Restaurante, Price: 1100\n",
      "Place: Majesty's Kitchen, Price: 600\n",
      "Place: Cafe One Yaba, Price: 3300\n",
      "Place: Emperor's Hotels & Restaurant, Price: 1200\n",
      "\n",
      "№ 2\n",
      "Product: Chicken Pie\n",
      "Place: House J. Luxury Apartments & Restaurant, Price: 900\n",
      "Place: Mia Delizia Italian Restaurante, Price: 1100\n",
      "Place: Majesty's Kitchen, Price: 600\n",
      "Place: Cafe One Yaba, Price: 3300\n",
      "Place: Emperor's Hotels & Restaurant, Price: 1200\n",
      "\n",
      "№ 3\n",
      "Product: Spicy Puff Puff\n",
      "Place: House J. Luxury Apartments & Restaurant, Price: 900\n",
      "Place: Mia Delizia Italian Restaurante, Price: 1100\n",
      "Place: Majesty's Kitchen, Price: 600\n",
      "Place: Cafe One Yaba, Price: 3300\n",
      "Place: Emperor's Hotels & Restaurant, Price: 1200\n",
      "\n",
      "№ 4\n",
      "Product: Sandwich\n",
      "Place: House J. Luxury Apartments & Restaurant, Price: 900\n",
      "Place: Mia Delizia Italian Restaurante, Price: 1100\n",
      "Place: Majesty's Kitchen, Price: 600\n",
      "Place: Cafe One Yaba, Price: 3300\n",
      "Place: Emperor's Hotels & Restaurant, Price: 1200\n",
      "\n",
      "№ 5\n",
      "Product: Grilled Plantains\n",
      "Place: House J. Luxury Apartments & Restaurant, Price: 900\n",
      "Place: Mia Delizia Italian Restaurante, Price: 1100\n",
      "Place: Majesty's Kitchen, Price: 600\n",
      "Place: Cafe One Yaba, Price: 3300\n",
      "Place: Emperor's Hotels & Restaurant, Price: 1200\n",
      "\n",
      "№ 6\n",
      "Product: Kunnu Aya\n",
      "Place: House J. Luxury Apartments & Restaurant, Price: 900\n",
      "Place: Mia Delizia Italian Restaurante, Price: 1100\n",
      "Place: Majesty's Kitchen, Price: 600\n",
      "Place: Cafe One Yaba, Price: 3300\n",
      "Place: Emperor's Hotels & Restaurant, Price: 1200\n",
      "\n",
      "№ 7\n",
      "Product: Yam Porridge with Plantains\n",
      "Place: House J. Luxury Apartments & Restaurant, Price: 900\n",
      "Place: Mia Delizia Italian Restaurante, Price: 1100\n",
      "Place: Majesty's Kitchen, Price: 600\n",
      "Place: Cafe One Yaba, Price: 3300\n",
      "Place: Emperor's Hotels & Restaurant, Price: 1200\n",
      "\n",
      "№ 8\n",
      "Product: Mojito\n",
      "Place: House J. Luxury Apartments & Restaurant, Price: 900\n",
      "Place: Mia Delizia Italian Restaurante, Price: 1100\n",
      "Place: Majesty's Kitchen, Price: 600\n",
      "Place: Cafe One Yaba, Price: 3300\n",
      "Place: Emperor's Hotels & Restaurant, Price: 1200\n",
      "\n",
      "№ 9\n",
      "Product: Pepper Sauce – Ata dindin\n",
      "Place: House J. Luxury Apartments & Restaurant, Price: 900\n",
      "Place: Mia Delizia Italian Restaurante, Price: 1100\n",
      "Place: Majesty's Kitchen, Price: 600\n",
      "Place: Cafe One Yaba, Price: 3300\n",
      "Place: Emperor's Hotels & Restaurant, Price: 1200\n",
      "\n",
      "№ 10\n",
      "Product:  Smoothie\n",
      "Place: House J. Luxury Apartments & Restaurant, Price: 900\n",
      "Place: Mia Delizia Italian Restaurante, Price: 1100\n",
      "Place: Majesty's Kitchen, Price: 600\n",
      "Place: Cafe One Yaba, Price: 3300\n",
      "Place: Emperor's Hotels & Restaurant, Price: 1200\n"
     ]
    }
   ],
   "source": [
    "# New user\n",
    "product_recommend(user_id=-1)"
   ]
  },
  {
   "cell_type": "code",
   "execution_count": 23,
   "metadata": {},
   "outputs": [],
   "source": [
    "# saving the similarity\n",
    "pickle.dump(cos_sim, open(\"similarity.pkl\", \"wb\"))"
   ]
  },
  {
   "cell_type": "code",
   "execution_count": 24,
   "metadata": {},
   "outputs": [
    {
     "data": {
      "text/plain": [
       "array([[1.        , 0.04461222, 0.02672211, ..., 0.02855413, 0.0228996 ,\n",
       "        0.        ],\n",
       "       [0.04461222, 1.        , 0.02376789, ..., 0.0238632 , 0.02765542,\n",
       "        0.        ],\n",
       "       [0.02672211, 0.02376789, 1.        , ..., 0.04063532, 0.01858867,\n",
       "        0.02231874],\n",
       "       ...,\n",
       "       [0.02855413, 0.0238632 , 0.04063532, ..., 1.        , 0.03554608,\n",
       "        0.018997  ],\n",
       "       [0.0228996 , 0.02765542, 0.01858867, ..., 0.03554608, 1.        ,\n",
       "        0.04227534],\n",
       "       [0.        , 0.        , 0.02231874, ..., 0.018997  , 0.04227534,\n",
       "        1.        ]])"
      ]
     },
     "execution_count": 24,
     "metadata": {},
     "output_type": "execute_result"
    }
   ],
   "source": [
    "# load the similarrity\n",
    "cos =  pickle.load(open(\"similarity.pkl\", \"rb\"))\n",
    "cos"
   ]
  },
  {
   "cell_type": "code",
   "execution_count": 25,
   "metadata": {},
   "outputs": [],
   "source": [
    "# saving the data\n",
    "pickle.dump(df, open(\"data.pkl\", \"wb\"))"
   ]
  }
 ],
 "metadata": {
  "kernelspec": {
   "display_name": "ml_env",
   "language": "python",
   "name": "python3"
  },
  "language_info": {
   "codemirror_mode": {
    "name": "ipython",
    "version": 3
   },
   "file_extension": ".py",
   "mimetype": "text/x-python",
   "name": "python",
   "nbconvert_exporter": "python",
   "pygments_lexer": "ipython3",
   "version": "3.9.16"
  },
  "orig_nbformat": 4
 },
 "nbformat": 4,
 "nbformat_minor": 2
}
